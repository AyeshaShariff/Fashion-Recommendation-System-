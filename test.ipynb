{
 "cells": [
  {
   "cell_type": "code",
   "execution_count": 1,
   "id": "91b5b4f1",
   "metadata": {},
   "outputs": [],
   "source": [
    "import pickle\n",
    "import numpy as np"
   ]
  },
  {
   "cell_type": "code",
   "execution_count": 2,
   "id": "94596458",
   "metadata": {},
   "outputs": [],
   "source": [
    "#importing feature list and filenames\n",
    "feature_list = np.array(pickle.load(open('embeddings.pkl','rb')))  #rb -read binary\n",
    "filenames = pickle.load(open('filenames.pkl','rb'))"
   ]
  },
  {
   "cell_type": "code",
   "execution_count": 3,
   "id": "e0bd16d5",
   "metadata": {},
   "outputs": [
    {
     "name": "stdout",
     "output_type": "stream",
     "text": [
      "(44441, 2048)\n"
     ]
    }
   ],
   "source": [
    "print(np.array(feature_list).shape) #for 44k images we have 2048 features for each image"
   ]
  },
  {
   "cell_type": "code",
   "execution_count": 4,
   "id": "f48610df",
   "metadata": {},
   "outputs": [],
   "source": [
    "#importingg test image\n",
    "import tensorflow\n",
    "import numpy as np\n",
    "from numpy.linalg import norm\n",
    "from tensorflow.keras.preprocessing import image\n",
    "from tensorflow.keras.layers import GlobalMaxPooling2D\n",
    "from tensorflow.keras.applications.resnet50 import ResNet50,preprocess_input"
   ]
  },
  {
   "cell_type": "code",
   "execution_count": 5,
   "id": "a935547c",
   "metadata": {},
   "outputs": [],
   "source": [
    "#creating model (we can also import the model)\n",
    "model = ResNet50(weights='imagenet',include_top=False,input_shape=(224,224,3))\n",
    "model.trainable = False\n",
    "\n",
    "model = tensorflow.keras.Sequential([\n",
    "    model,\n",
    "    GlobalMaxPooling2D()\n",
    "])"
   ]
  },
  {
   "cell_type": "code",
   "execution_count": 6,
   "id": "0674e814",
   "metadata": {},
   "outputs": [],
   "source": [
    "img = image.load_img('C:/Users/ahmed/Downloads/archive (2)/sample/watch.jpg',target_size=(224,224))\n",
    "img_array = image.img_to_array(img)\n",
    "expanded_img_array = np.expand_dims(img_array, axis=0)\n",
    "preprocessed_img = preprocess_input(expanded_img_array)\n",
    "result = model.predict(preprocessed_img).flatten()\n",
    "normalized_result = result / norm(result)"
   ]
  },
  {
   "cell_type": "code",
   "execution_count": 14,
   "id": "c048fef4",
   "metadata": {},
   "outputs": [
    {
     "name": "stdout",
     "output_type": "stream",
     "text": [
      "Collecting opencv-python\n",
      "  Downloading opencv_python-4.6.0.66-cp36-abi3-win_amd64.whl (35.6 MB)\n",
      "Requirement already satisfied: numpy>=1.17.3 in c:\\users\\ahmed\\anaconda3\\lib\\site-packages (from opencv-python) (1.18.5)\n",
      "Installing collected packages: opencv-python\n",
      "Successfully installed opencv-python-4.6.0.66\n",
      "Note: you may need to restart the kernel to use updated packages.\n"
     ]
    }
   ],
   "source": [
    "pip install opencv-python"
   ]
  },
  {
   "cell_type": "code",
   "execution_count": 15,
   "id": "447eee84",
   "metadata": {},
   "outputs": [],
   "source": [
    "#calculate distance between normalized_reuslt and feature_list for this we use k nearest neighbours\n",
    "from sklearn.neighbors import NearestNeighbors\n",
    "import cv2"
   ]
  },
  {
   "cell_type": "code",
   "execution_count": 25,
   "id": "9ca2324a",
   "metadata": {},
   "outputs": [
    {
     "data": {
      "text/plain": [
       "NearestNeighbors(algorithm='brute', metric='euclidean')"
      ]
     },
     "execution_count": 25,
     "metadata": {},
     "output_type": "execute_result"
    }
   ],
   "source": [
    "#we are finding 5 nearest images\n",
    "#we are using brute algorithm because we have less images \n",
    "#we are using euclidean distance to calculate the distance \n",
    "neighbors = NearestNeighbors(n_neighbors=6,algorithm='brute',metric='euclidean') #we gave 6 instead of 5 because the first image is the input image itself\n",
    "#we give our input data as feature_list\n",
    "neighbors.fit(feature_list)"
   ]
  },
  {
   "cell_type": "code",
   "execution_count": 26,
   "id": "6f10f4f7",
   "metadata": {},
   "outputs": [
    {
     "name": "stdout",
     "output_type": "stream",
     "text": [
      "[[28866 28867 28948 28870 28869]]\n"
     ]
    }
   ],
   "source": [
    "#we find k neighbours of normalized result from feature_list\n",
    "distances,indices = neighbors.kneighbors([normalized_result])\n",
    "#returns distances and indices \n",
    "#it gives the indices of the matching array i.e image\n",
    "\n",
    "print(indices)\n",
    "#Indices ia a 2D array"
   ]
  },
  {
   "cell_type": "code",
   "execution_count": 28,
   "id": "01afd673",
   "metadata": {},
   "outputs": [
    {
     "name": "stdout",
     "output_type": "stream",
     "text": [
      "C:/Users/ahmed/Downloads/archive (2)/images\\45021.jpg\n",
      "C:/Users/ahmed/Downloads/archive (2)/images\\45022.jpg\n",
      "C:/Users/ahmed/Downloads/archive (2)/images\\45128.jpg\n",
      "C:/Users/ahmed/Downloads/archive (2)/images\\45025.jpg\n",
      "C:/Users/ahmed/Downloads/archive (2)/images\\45024.jpg\n"
     ]
    }
   ],
   "source": [
    "#printing the filenames of images of the above indices\n",
    "for file in indices[0]:\n",
    "    print(filenames[file])"
   ]
  },
  {
   "cell_type": "code",
   "execution_count": 22,
   "id": "c448829a",
   "metadata": {},
   "outputs": [],
   "source": [
    "#print the images\n",
    "#we do not use this module if we are converting to website\n",
    "#from 0th we are extracting 1 to 6 because the first image is same as input since i took the smaple image from the main images folder \n",
    "#if the sample image is not from images folder than use incices[0] in for loop\n",
    "for file in indices[0][1:6]:\n",
    "    temp_img = cv2.imread(filenames[file])\n",
    "    cv2.imshow('output',cv2.resize(temp_img,(512,512)))\n",
    "    cv2.waitKey(0) #we use waitkey so that the screen does not get disappeared in sometime"
   ]
  }
 ],
 "metadata": {
  "kernelspec": {
   "display_name": "Python 3",
   "language": "python",
   "name": "python3"
  },
  "language_info": {
   "codemirror_mode": {
    "name": "ipython",
    "version": 3
   },
   "file_extension": ".py",
   "mimetype": "text/x-python",
   "name": "python",
   "nbconvert_exporter": "python",
   "pygments_lexer": "ipython3",
   "version": "3.8.8"
  }
 },
 "nbformat": 4,
 "nbformat_minor": 5
}
