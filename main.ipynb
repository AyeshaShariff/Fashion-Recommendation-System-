{
 "cells": [
  {
   "cell_type": "code",
   "execution_count": 1,
   "id": "97a7ff0c",
   "metadata": {},
   "outputs": [],
   "source": [
    "import streamlit as st\n",
    "import os\n",
    "from PIL import Image  #to display image\n",
    "import numpy as np\n",
    "import pickle\n",
    "import tensorflow\n",
    "from tensorflow.keras.preprocessing import image\n",
    "from tensorflow.keras.layers import GlobalMaxPooling2D\n",
    "from tensorflow.keras.applications.resnet50 import ResNet50,preprocess_input\n",
    "from sklearn.neighbors import NearestNeighbors\n",
    "from numpy.linalg import norm\n",
    "import cv2"
   ]
  },
  {
   "cell_type": "code",
   "execution_count": 2,
   "id": "0bef2ec5",
   "metadata": {},
   "outputs": [],
   "source": [
    "feature_list = np.array(pickle.load(open('embeddings.pkl','rb')))\n",
    "filenames = pickle.load(open('filenames.pkl','rb'))"
   ]
  },
  {
   "cell_type": "code",
   "execution_count": 3,
   "id": "71cd5a5f",
   "metadata": {},
   "outputs": [],
   "source": [
    "model = ResNet50(weights='imagenet',include_top=False,input_shape=(224,224,3))\n",
    "model.trainable = False\n",
    "\n",
    "model = tensorflow.keras.Sequential([\n",
    "    model,\n",
    "    GlobalMaxPooling2D()\n",
    "])"
   ]
  },
  {
   "cell_type": "code",
   "execution_count": 4,
   "id": "5d84fee9",
   "metadata": {},
   "outputs": [
    {
     "name": "stderr",
     "output_type": "stream",
     "text": [
      "2022-08-01 02:31:07.606 \n",
      "  \u001b[33m\u001b[1mWarning:\u001b[0m to view this Streamlit app on a browser, run it with the following\n",
      "  command:\n",
      "\n",
      "    streamlit run C:\\Users\\ahmed\\anaconda3\\lib\\site-packages\\ipykernel_launcher.py [ARGUMENTS]\n"
     ]
    },
    {
     "data": {
      "text/plain": [
       "DeltaGenerator(_root_container=0, _provided_cursor=None, _parent=None, _block_type=None, _form_data=None)"
      ]
     },
     "execution_count": 4,
     "metadata": {},
     "output_type": "execute_result"
    }
   ],
   "source": [
    "st.title('Fashion Product Recommender System')"
   ]
  },
  {
   "cell_type": "code",
   "execution_count": 5,
   "id": "67d2b067",
   "metadata": {},
   "outputs": [],
   "source": [
    "#function to save the file\n",
    "def save_uploaded_file(uploaded_file):\n",
    "    try:\n",
    "        with open(os.path.join('C:/Users/ahmed/Downloads/archive (2)/uploads',uploaded_file.name),'wb') as f:\n",
    "            f.write(uploaded_file.getbuffer())\n",
    "        return 1\n",
    "    except:\n",
    "        return 0"
   ]
  },
  {
   "cell_type": "code",
   "execution_count": 6,
   "id": "6b8b4de9",
   "metadata": {},
   "outputs": [],
   "source": [
    "#creating a function for feature extraction\n",
    "def feature_extraction(img_path,model):\n",
    "    img = image.load_img(img_path, target_size=(224, 224))\n",
    "    img_array = image.img_to_array(img)\n",
    "    expanded_img_array = np.expand_dims(img_array, axis=0)\n",
    "    preprocessed_img = preprocess_input(expanded_img_array)\n",
    "    result = model.predict(preprocessed_img).flatten()\n",
    "    normalized_result = result / norm(result)\n",
    "    return normalized_result"
   ]
  },
  {
   "cell_type": "code",
   "execution_count": 7,
   "id": "4072cf04",
   "metadata": {},
   "outputs": [],
   "source": [
    "#creating a function for recommend\n",
    "def recommend(features,feature_list):\n",
    "    neighbors = NearestNeighbors(n_neighbors=6, algorithm='brute', metric='euclidean')\n",
    "    neighbors.fit(feature_list)\n",
    "    distances, indices = neighbors.kneighbors([features])\n",
    "    return indices"
   ]
  },
  {
   "cell_type": "code",
   "execution_count": 9,
   "id": "1cf2fc16",
   "metadata": {},
   "outputs": [],
   "source": [
    "uploaded_file = st.file_uploader(\"Choose an image\")\n",
    "if uploaded_file is not None:\n",
    "    if save_uploaded_file(uploaded_file):\n",
    "        # display the file\n",
    "        display_image = Image.open(uploaded_file)\n",
    "        st.image(display_image)\n",
    "        # feature extract\n",
    "        features = feature_extraction(os.path.join(\"C:/Users/ahmed/Downloads/archive (2)/uploads\",uploaded_file.name),model)\n",
    "        #st.text(features)\n",
    "        # recommendention\n",
    "        indices = recommend(features,feature_list)\n",
    "        # display image\n",
    "        col1,col2,col3,col4,col5 = st.columns(5)\n",
    "\n",
    "        with col1:\n",
    "            imagee = cv2.imread(filenames[indices[0][0]])\n",
    "            cv2.imshow('Image', imagee)\n",
    "            st.image(imagee)\n",
    "        with col2:\n",
    "            imagee = cv2.imread(filenames[indices[0][1]])\n",
    "            cv2.imshow('Image', imagee)\n",
    "            st.image(imagee)\n",
    "        with col3:\n",
    "            imagee = cv2.imread(filenames[indices[0][2]])\n",
    "            cv2.imshow('Image', imagee)\n",
    "            st.image(imagee)\n",
    "        with col4:\n",
    "            imagee = cv2.imread(filenames[indices[0][3]])\n",
    "            cv2.imshow('Image', imagee)\n",
    "            st.image(imagee)\n",
    "        with col5:\n",
    "            imagee = cv2.imread(filenames[indices[0][4]])\n",
    "            cv2.imshow('Image', imagee)\n",
    "            st.image(imagee)\n",
    "    else:\n",
    "        st.header(\"Some error occured in file upload\")"
   ]
  },
  {
   "cell_type": "markdown",
   "id": "e1949faa",
   "metadata": {},
   "source": [
    "#Run the below commands in the command prompt,\n",
    "\n",
    "  #jupyter nbconvert --to script main.ipynb     # convert jupyter notebook to script   \n",
    "  \n",
    "  #awk '!/ipython/' main.py > temp.py && move temp.py app.py && del main.py     #remove ipython widgets and create app.py\n",
    "  \n",
    "  #streamlit run app.py"
   ]
  }
 ],
 "metadata": {
  "kernelspec": {
   "display_name": "Python 3",
   "language": "python",
   "name": "python3"
  },
  "language_info": {
   "codemirror_mode": {
    "name": "ipython",
    "version": 3
   },
   "file_extension": ".py",
   "mimetype": "text/x-python",
   "name": "python",
   "nbconvert_exporter": "python",
   "pygments_lexer": "ipython3",
   "version": "3.8.8"
  }
 },
 "nbformat": 4,
 "nbformat_minor": 5
}
